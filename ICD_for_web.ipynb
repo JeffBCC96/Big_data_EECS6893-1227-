{
 "cells": [
  {
   "cell_type": "code",
   "execution_count": 4,
   "metadata": {},
   "outputs": [],
   "source": [
    "# UMLS API requires getting TGT every 8 hours: https://documentation.uts.nlm.nih.gov/rest/authentication.html\n",
    "# Or just get every run (below)\n",
    "import getpass\n",
    "import requests\n",
    "from bs4 import BeautifulSoup\n",
    "import json\n",
    "import pandas as pd\n",
    "import os\n",
    "from os import path\n",
    "\n",
    "\n",
    "headers = {\"Content-Type\": \"application/x-www-form-urlencoded\"}\n",
    "\n",
    "# user = input(\"Please enter your username: \")\n",
    "# pw = getpass.getpass(\"Please enter your password: \")\n",
    "user = 'jeffma'\n",
    "pw = 'Mr13812283066'\n",
    "\n",
    "params = {\"username\" : user, \n",
    "         \"password\" : pw}\n",
    "\n",
    "TGT_URL = \"https://utslogin.nlm.nih.gov/cas/v1/tickets\"\n",
    "\n",
    "response = (requests.post(TGT_URL, headers = headers, params = params)).text\n",
    "ticketgetter = BeautifulSoup(response, 'lxml')\n",
    "TGT = ticketgetter.form['action']\n"
   ]
  },
  {
   "cell_type": "code",
   "execution_count": 9,
   "metadata": {},
   "outputs": [],
   "source": [
    "# icd-query     # ICD10: Cauda equina syndrome; Brain Injuries Traumatic\n",
    "def search_icd(icd):\n",
    "    \"\"\"\n",
    "        return dict {cui,file_path, paired_results}\n",
    "        \n",
    "    \"\"\"\n",
    "    \n",
    "    f_search = {'paired_results':[], 'file_path':''}\n",
    "    \n",
    "    headers_ST = {\"Content-Type\": \"application/x-www-form-urlencoded\"}\n",
    "    params = {\"service\": \"http://umlsks.nlm.nih.gov\"}\n",
    "    \n",
    "    # search the query\n",
    "    queryString = icd\n",
    "    ST = requests.post(TGT, headers = headers_ST, params = params)\n",
    "\n",
    "    URL = \"https://uts-ws.nlm.nih.gov/rest/search/current?string={}&ticket={}\".format(queryString, ST.text)\n",
    "    response = requests.get(URL)\n",
    "    j = json.loads(response.text) \n",
    "\n",
    "\n",
    "    # parse cui & select the first cui\n",
    "    mth_cui = []\n",
    "    for i in j['result']['results']:\n",
    "        if i['rootSource'] == 'MTH':\n",
    "            mth_cui.append((i['ui'],i['name']))\n",
    "            \n",
    "    CUI = mth_cui[0][0] \n",
    "    f_search['CUI'] = CUI\n",
    "\n",
    "\n",
    "    ST = requests.post(TGT, headers = headers_ST, params = params)\n",
    "    URL_cui = \"https://uts-ws.nlm.nih.gov/rest/content/current/CUI/{}/atoms?sabs=ICD10CM,MSH&ticket={}\".format(CUI, ST.text)\n",
    "    response_2 = requests.get(URL_cui)\n",
    "    r2 = json.loads(response_2.text) \n",
    "    \n",
    "    \n",
    "    \n",
    "    # find related files\n",
    "    Mesh_terms = []\n",
    "    icd_terms = [] \n",
    "    found_file = 'Sorry, we can not find the local files'\n",
    "\n",
    "    for atom in r2['result']: \n",
    "        if atom['rootSource'] == 'MSH':\n",
    "            for i in r2['result']:\n",
    "                if i['rootSource'] == 'ICD10CM':\n",
    "                    Mesh_terms.append(atom[\"name\"])\n",
    "                    icd_terms.append(i[\"name\"])\n",
    "\n",
    "    # Print all the matched pairs\n",
    "    paired_results = list(zip(Mesh_terms, icd_terms)) \n",
    "    print(f'Here we found {len(paired_results)} paired results')\n",
    "    for i in paired_results:\n",
    "        print(f'Matched: ICD10CM({i[1]}) ---> MeSH({i[0]})')\n",
    "        f_search['paired_results'].append(f'Matched: ICD10CM({i[1]}) ---> MeSH({i[0]})')\n",
    "\n",
    "    # return the files for the required Mesh terms \n",
    "    for item in paired_results:\n",
    "        mesh_path = ' '.join(item[0].split(',')) +'.csv'\n",
    "        try:\n",
    "            found_file = pd.read_csv(os.path.join('Mesh_terms',mesh_path))\n",
    "            f_search['file_path'] = os.path.join('Mesh_terms',mesh_path)\n",
    "            break\n",
    "        except:\n",
    "            print(f'MeSH term: {mesh_path} not_found')\n",
    "\n",
    "    try:\n",
    "        display(found_file.head())\n",
    "    except:\n",
    "        if paired_results:\n",
    "            print(f\"https://www.ncbi.nlm.nih.gov/pubmed/?term={'+'.join(paired_results[0][0].split(' '))}\")\n",
    "        else: \n",
    "            print(f\"https://www.ncbi.nlm.nih.gov/pubmed/?term={'+'.join(queryString.split(' '))}\")\n",
    "\n",
    "    if f_search['file_path'] == '':\n",
    "        if paired_results:\n",
    "            f_search['file_path'] = f\"https://www.ncbi.nlm.nih.gov/pubmed/?term={'+'.join(paired_results[0][0].split(' '))}\"\n",
    "        else:\n",
    "            f_search['file_path'] = f\"https://www.ncbi.nlm.nih.gov/pubmed/?term={'+'.join(queryString.split(' '))}\"\n",
    "    \n",
    "    \n",
    "    \n",
    "    return f_search\n",
    "    "
   ]
  },
  {
   "cell_type": "code",
   "execution_count": 13,
   "metadata": {},
   "outputs": [
    {
     "name": "stdout",
     "output_type": "stream",
     "text": [
      "Here we found 4 paired results\n",
      "Matched: ICD10CM(Chest pain, unspecified) ---> MeSH(Chest Pain)\n",
      "Matched: ICD10CM(Chest pain, unspecified) ---> MeSH(Chest Pains)\n",
      "Matched: ICD10CM(Chest pain, unspecified) ---> MeSH(Pain, Chest)\n",
      "Matched: ICD10CM(Chest pain, unspecified) ---> MeSH(Pains, Chest)\n",
      "MeSH term: Chest Pain.csv not_found\n",
      "MeSH term: Chest Pains.csv not_found\n",
      "MeSH term: Pain  Chest.csv not_found\n",
      "MeSH term: Pains  Chest.csv not_found\n",
      "https://www.ncbi.nlm.nih.gov/pubmed/?term=Chest+Pain\n"
     ]
    },
    {
     "data": {
      "text/plain": [
       "{'CUI': 'C0008031',\n",
       " 'file_path': 'https://www.ncbi.nlm.nih.gov/pubmed/?term=Chest+Pain',\n",
       " 'paired_results': ['Matched: ICD10CM(Chest pain, unspecified) ---> MeSH(Chest Pain)',\n",
       "  'Matched: ICD10CM(Chest pain, unspecified) ---> MeSH(Chest Pains)',\n",
       "  'Matched: ICD10CM(Chest pain, unspecified) ---> MeSH(Pain, Chest)',\n",
       "  'Matched: ICD10CM(Chest pain, unspecified) ---> MeSH(Pains, Chest)']}"
      ]
     },
     "execution_count": 13,
     "metadata": {},
     "output_type": "execute_result"
    }
   ],
   "source": [
    "search_icd('chest pain')"
   ]
  },
  {
   "cell_type": "code",
   "execution_count": null,
   "metadata": {},
   "outputs": [],
   "source": []
  },
  {
   "cell_type": "code",
   "execution_count": null,
   "metadata": {},
   "outputs": [],
   "source": []
  },
  {
   "cell_type": "code",
   "execution_count": null,
   "metadata": {},
   "outputs": [],
   "source": []
  },
  {
   "cell_type": "code",
   "execution_count": null,
   "metadata": {},
   "outputs": [],
   "source": []
  }
 ],
 "metadata": {
  "kernelspec": {
   "display_name": "Python 3",
   "language": "python",
   "name": "python3"
  },
  "language_info": {
   "codemirror_mode": {
    "name": "ipython",
    "version": 3
   },
   "file_extension": ".py",
   "mimetype": "text/x-python",
   "name": "python",
   "nbconvert_exporter": "python",
   "pygments_lexer": "ipython3",
   "version": "3.6.8"
  }
 },
 "nbformat": 4,
 "nbformat_minor": 2
}
