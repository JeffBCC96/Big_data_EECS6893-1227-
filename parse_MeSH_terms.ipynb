{
 "cells": [
  {
   "cell_type": "code",
   "execution_count": 1,
   "metadata": {},
   "outputs": [],
   "source": [
    "DOMTree = xml.dom.minidom.parse(\"desc2020.xml\")\n",
    "collection = DOMTree.documentElement\n",
    "record = collection.getElementsByTagName(\"DescriptorRecord\")\n",
    "\n",
    "\n",
    "organized_mesh_info = []\n",
    "for r in record:\n",
    "    try:\n",
    "        DUI = r.childNodes[1].childNodes[0].data\n",
    "        Mesh_name = r.getElementsByTagName('DescriptorName')[0].childNodes[1].childNodes[0].data\n",
    "        \n",
    "        treeid = []\n",
    "        treenumberlist = r.getElementsByTagName('TreeNumberList')[0].getElementsByTagName('TreeNumber')\n",
    "        for i in range(len(treenumberlist)):\n",
    "            treeid.append(treenumberlist[i].childNodes[0].data)\n",
    "        \n",
    "        organized_mesh_info.append((DUI,Mesh_name,treeid))\n",
    "    except: \n",
    "        print('something wrong ' + str(DUI))\n",
    "\n",
    "mesh_for_Diseases = [i for i in organized_mesh_info if i[2][0].startswith('C') and len(i[2]) != 0]\n",
    "\n",
    "\n",
    "# store the terms into csv file\n",
    "Mesh_dx = pd.DataFrame({'ID': [i[0] for i in mesh_for_Diseases],\n",
    "                  'Name': [i[1] for i in mesh_for_Diseases],\n",
    "                  'TreeID': [','.join(i[2]) for i in mesh_for_Diseases]})\n",
    "\n",
    "Mesh_dx.to_csv('mesh_for_Diseases.csv')\n"
   ]
  },
  {
   "cell_type": "code",
   "execution_count": null,
   "metadata": {},
   "outputs": [],
   "source": []
  },
  {
   "cell_type": "code",
   "execution_count": null,
   "metadata": {},
   "outputs": [],
   "source": []
  }
 ],
 "metadata": {
  "kernelspec": {
   "display_name": "Python 3",
   "language": "python",
   "name": "python3"
  },
  "language_info": {
   "codemirror_mode": {
    "name": "ipython",
    "version": 3
   },
   "file_extension": ".py",
   "mimetype": "text/x-python",
   "name": "python",
   "nbconvert_exporter": "python",
   "pygments_lexer": "ipython3",
   "version": "3.6.8"
  }
 },
 "nbformat": 4,
 "nbformat_minor": 2
}
